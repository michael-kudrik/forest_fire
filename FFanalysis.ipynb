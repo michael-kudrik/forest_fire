{
 "cells": [
  {
   "cell_type": "code",
   "execution_count": 2,
   "id": "304feaf8-074b-439d-9a48-aaa70615e386",
   "metadata": {},
   "outputs": [
    {
     "name": "stdout",
     "output_type": "stream",
     "text": [
      "Hellow\n"
     ]
    }
   ],
   "source": [
    "import warnings\n",
    "warnings.filterwarnings('ignore')\n",
    "import numpy as np\n",
    "import pandas as pd\n",
    "\n",
    "#gdp_data = pd.read_csv('GDP.csv', na_values = \":\", usecols = ['Country Name', 'Country Code', 'Year', 'Value'])\n",
    "#display(gdp_data)\n",
    "\n",
    "#print(gdp_data.index)\n",
    "#print(gdp_data.columns)\n",
    "print(\"Hellow\")"
   ]
  },
  {
   "cell_type": "code",
   "execution_count": null,
   "id": "dbefff23-6c4d-45a1-854c-28ecb6d23dd9",
   "metadata": {},
   "outputs": [],
   "source": []
  }
 ],
 "metadata": {
  "kernelspec": {
   "display_name": "Python 3 (ipykernel)",
   "language": "python",
   "name": "python3"
  },
  "language_info": {
   "codemirror_mode": {
    "name": "ipython",
    "version": 3
   },
   "file_extension": ".py",
   "mimetype": "text/x-python",
   "name": "python",
   "nbconvert_exporter": "python",
   "pygments_lexer": "ipython3",
   "version": "3.10.12"
  }
 },
 "nbformat": 4,
 "nbformat_minor": 5
}
